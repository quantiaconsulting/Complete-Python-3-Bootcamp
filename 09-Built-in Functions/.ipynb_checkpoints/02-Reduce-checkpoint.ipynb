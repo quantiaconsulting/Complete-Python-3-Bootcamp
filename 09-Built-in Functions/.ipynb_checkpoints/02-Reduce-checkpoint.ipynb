{
 "cells": [
  {
   "cell_type": "markdown",
   "metadata": {},
   "source": [
    "# reduce()\n",
    "\n",
    "Many times students have difficulty understanding reduce() so pay careful attention to this lecture. The function reduce(function, sequence) continually applies the function to the sequence. It then returns a single value. \n",
    "\n",
    "If seq = [ s1, s2, s3, ... , sn ], calling reduce(function, sequence) works like this:\n",
    "\n",
    "* At first the first two elements of seq will be applied to function, i.e. func(s1,s2) \n",
    "* The list on which reduce() works looks now like this: [ function(s1, s2), s3, ... , sn ]\n",
    "* In the next step the function will be applied on the previous result and the third element of the list, i.e. function(function(s1, s2),s3)\n",
    "* The list looks like this now: [ function(function(s1, s2),s3), ... , sn ]\n",
    "* It continues like this until just one element is left and return this element as the result of reduce()\n",
    "\n",
    "Let's see an example:"
   ]
  },
  {
   "cell_type": "code",
   "execution_count": null,
   "metadata": {},
   "outputs": [],
   "source": [
    "from functools import reduce\n",
    "\n",
    "lst =[47,11,42,13]\n",
    "reduce(lambda x,y: x+y,lst)"
   ]
  },
  {
   "cell_type": "markdown",
   "metadata": {},
   "source": [
    "Lets look at a diagram to get a better understanding of what is going on here:"
   ]
  },
  {
   "cell_type": "code",
   "execution_count": null,
   "metadata": {},
   "outputs": [],
   "source": [
    "from IPython.display import Image\n",
    "Image('http://www.python-course.eu/images/reduce_diagram.png')"
   ]
  },
  {
   "cell_type": "markdown",
   "metadata": {},
   "source": [
    "Note how we keep reducing the sequence until a single final value is obtained. Lets see another example:"
   ]
  },
  {
   "cell_type": "code",
   "execution_count": null,
   "metadata": {},
   "outputs": [],
   "source": [
    "#Find the maximum of a sequence (This already exists as max())\n",
    "max_find = lambda a,b: a if (a > b) else b"
   ]
  },
  {
   "cell_type": "code",
   "execution_count": null,
   "metadata": {},
   "outputs": [],
   "source": [
    "#Find max\n",
    "reduce(max_find,lst)"
   ]
  },
  {
   "cell_type": "markdown",
   "metadata": {},
   "source": [
    "Hopefully you can see how useful reduce can be in various situations. Keep it in mind as you think about your code projects!"
   ]
  }
 ],
 "metadata": {
  "kernelspec": {
   "display_name": "Python 3",
   "language": "python",
   "name": "python3"
  },
  "language_info": {
   "codemirror_mode": {
    "name": "ipython",
    "version": 3
   },
   "file_extension": ".py",
   "mimetype": "text/x-python",
   "name": "python",
   "nbconvert_exporter": "python",
   "pygments_lexer": "ipython3",
   "version": "3.7.3"
  }
 },
 "nbformat": 4,
 "nbformat_minor": 1
}
